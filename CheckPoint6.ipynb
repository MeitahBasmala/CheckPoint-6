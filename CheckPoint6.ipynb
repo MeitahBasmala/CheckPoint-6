{
 "cells": [
  {
   "cell_type": "code",
   "execution_count": 5,
   "id": "06b9b6b2",
   "metadata": {
    "scrolled": false
   },
   "outputs": [
    {
     "name": "stdout",
     "output_type": "stream",
     "text": [
      "Enter the list size 2\n",
      "Enter the first list\n",
      "1\n",
      "2\n",
      "[[1 2]\n",
      " [3 4]]\n",
      "[[1, 2], [3, 4]]\n",
      "[[ 4  1  9]\n",
      " [12  3  1]\n",
      " [ 4  5  6]]\n"
     ]
    }
   ],
   "source": [
    "#01\n",
    "'''Write a Python program to convert an array to an ordinary list with the same items.\n",
    "We can use the np.tolist() function.'''\n",
    "\n",
    "import numpy as np\n",
    "list1 = [ ] \n",
    "n = int(input(\"Enter the list size \"))\n",
    "print(\"Enter the first list\")\n",
    "for i in range(0, n): \n",
    "    element1 = int(input())\n",
    "    list1.append(element1) \n",
    "arr=np.array(list1)\n",
    "\n",
    "'''#list of lists\n",
    "arr= array.reshape(2,2)\n",
    "print(array)\n",
    "'''\n",
    "list2 = arr.tolist()\n",
    "print(list2)\n",
    "'''\n",
    "# matrix \n",
    "arr=np.matrix('[4, 1, 9; 12, 3, 1; 4, 5, 6]')\n",
    "print(arr)'''"
   ]
  },
  {
   "cell_type": "code",
   "execution_count": 66,
   "id": "362b3b01",
   "metadata": {},
   "outputs": [
    {
     "name": "stdout",
     "output_type": "stream",
     "text": [
      "the sum 15.0\n",
      "Output is: \n",
      " 15\n"
     ]
    }
   ],
   "source": [
    "#2\n",
    "'''Write a NumPy program to compute the sum of the diagonal elements of a given array.\n",
    "Hint: There are two possible methods to solve this problem: \n",
    "Manually (without direct function). \n",
    "Using the trace function'''\n",
    "\n",
    "import numpy as np\n",
    "'''    \n",
    "sum of two matrixes diagonals\n",
    "M1=np.array([[4,1, 9],[ 12 ,3 ,1] ,[ 4, 5, 6]])\n",
    "M2=np.array([[1 ,2 ,3] ,[ 5, 4, 6] ,[ 7, 8 ,9]])\n",
    "\n",
    "M3 = np.empty((M1.shape))\n",
    "for i in range(len(M1)):\n",
    "  M3[i][i] = M1[i][i] + M2[i][i]\n",
    "  print('the sum of the' , i+1,'element of the two diagonals = ' , int(M3[i][i]))\n",
    "'''\n",
    "#method 1\n",
    "M1=np.array([[1.0, 2.0, 3.0], [4.0, 5.0, 6.0], [7.0, 8.0, 9.0]])\n",
    "sum = 0\n",
    "for i in range(len(M1)):\n",
    "    sum += M1[i][i] \n",
    "print(\"The sum = \", sum)\n",
    "arr = np.array([[1, 2, 3],\n",
    "                [4, 5, 6],\n",
    "                [7, 8, 9]])\n",
    "#method 2\n",
    "res = np.trace(arr)\n",
    "print(\"The sum = \", res)"
   ]
  },
  {
   "cell_type": "code",
   "execution_count": 53,
   "id": "f5748812",
   "metadata": {},
   "outputs": [
    {
     "name": "stdout",
     "output_type": "stream",
     "text": [
      "Enter a number: 3\n",
      "9 5 4 6 7 8 "
     ]
    }
   ],
   "source": [
    "'''Given an array of your choice, get all the values higher than X:\n",
    "If a = [[1,2],[3,5]] and x = 2 :  then 3 and 5 are higher than 2. '''\n",
    "\n",
    "import numpy as np\n",
    "number = int(input('Enter a number: '))\n",
    "M1=np.array([[9 ,2 ,5] ,\n",
    "             [ 4, 3, 6] ,\n",
    "             [ 7, 1 ,8]])\n",
    "M2 = np.empty((M1.shape))\n",
    "for i in range(len(M1)):\n",
    "    for j in range(len(M1)):\n",
    "        if number in M1:\n",
    "            if M1[i][j] > number:\n",
    "                M2[i][j] = M1[i][j]\n",
    "                print(int(M2[i][j]),end=' ')\n",
    "\n",
    "        else:\n",
    "            print('the number in not in the array')\n"
   ]
  },
  {
   "cell_type": "code",
   "execution_count": 58,
   "id": "5b1b3a23",
   "metadata": {},
   "outputs": [
    {
     "name": "stdout",
     "output_type": "stream",
     "text": [
      "[ 5.  3. 12.]\n",
      "[17.  7.  7.]\n",
      "[11. 13. 15.]\n"
     ]
    }
   ],
   "source": [
    "'''Given two arrays, A & B have the same shape. \n",
    "The task is to apply addition by hand: C is the new array.'''\n",
    "\n",
    "import numpy as np\n",
    "M1=np.array([[4,1, 9],\n",
    "             [ 12 ,3 ,1] ,\n",
    "             [ 4, 5, 6]])\n",
    "\n",
    "M2=np.array([[1 ,2 ,3] ,\n",
    "             [ 5, 4, 6] ,\n",
    "             [ 7, 8 ,9]])\n",
    "M3 = np.empty((M1.shape))\n",
    "\n",
    "for i in range(len(M1)):\n",
    "    for j in range(len(M2)):\n",
    "        M3[i][j] = M1[i][j] + M2[i][j]\n",
    "for m in M3:\n",
    "    print(m)\n",
    "    "
   ]
  },
  {
   "cell_type": "code",
   "execution_count": 68,
   "id": "6468da72",
   "metadata": {},
   "outputs": [
    {
     "name": "stdout",
     "output_type": "stream",
     "text": [
      "The mean values:\n",
      " [[4.66666667]\n",
      " [5.33333333]\n",
      " [5.        ]]\n",
      "Subtract the mean of each row of the said matrix:\n",
      "[[-0.66666667 -3.66666667  4.33333333]\n",
      " [ 6.66666667 -2.33333333 -4.33333333]\n",
      " [-1.          0.          1.        ]]\n"
     ]
    }
   ],
   "source": [
    "'''Write a NumPy program to subtract the mean of each row of a given matrix.\n",
    "Hint: use the mean function'''\n",
    "\n",
    "import numpy as np\n",
    "M1=np.array([[4,1, 9],\n",
    "             [ 12 ,3 ,1] ,\n",
    "             [ 4, 5, 6]])\n",
    "print(\"The mean values:\\n\", np.mean(M1, axis=1, keepdims=True))\n",
    "print(\"Subtract the mean of each row of the said matrix:\")\n",
    "M2 = M1 - M1.mean(axis=1, keepdims=True)\n",
    "print(M2)"
   ]
  }
 ],
 "metadata": {
  "kernelspec": {
   "display_name": "Python 3 (ipykernel)",
   "language": "python",
   "name": "python3"
  },
  "language_info": {
   "codemirror_mode": {
    "name": "ipython",
    "version": 3
   },
   "file_extension": ".py",
   "mimetype": "text/x-python",
   "name": "python",
   "nbconvert_exporter": "python",
   "pygments_lexer": "ipython3",
   "version": "3.9.12"
  }
 },
 "nbformat": 4,
 "nbformat_minor": 5
}
